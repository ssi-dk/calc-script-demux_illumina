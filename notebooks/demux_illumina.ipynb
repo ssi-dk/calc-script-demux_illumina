{
 "cells": [
  {
   "cell_type": "markdown",
   "metadata": {},
   "source": [
    "# Demux Illumina\n",
    "\n",
    "This assumes you start with a tsv file with sample key and file path as outputted by [find_run_diff](https://github.com/ssi-dk/calc-script-find_run_diff), though can be made manually. The file is parsed for paths that will be demultiplexed, path for demultiplexing should be known and used with the previous program. It will then go through all the raw folders and create the demultiplexed folders.\n",
    "\n",
    "The demux process will take standard NextSeq, MiSeq or NovaSeq folders and will turn them into paired end fastq files.\n",
    "\n",
    "Nonstandard differences. Data for sequencing is organized into year folders. This information is gathered from the first 2 digits of the run folder and will affect the output location."
   ]
  },
  {
   "cell_type": "markdown",
   "metadata": {},
   "source": [
    "## Installation/Setup\n",
    "Please ensure you've followed instructions in `./README.md` to install the conda environment which this is based on. It contains the required libraries for also running this jupyter notebook. If you follow the default set up then ensure your Jupyter server is pointing to `./venv/bin/python`.\n",
    "\n",
    "### Additional program requirements:\n",
    "bcl2fastq # not handled in conda"
   ]
  },
  {
   "cell_type": "markdown",
   "metadata": {},
   "source": [
    "## Libraries"
   ]
  },
  {
   "cell_type": "code",
   "execution_count": 53,
   "metadata": {},
   "outputs": [],
   "source": [
    "from dotenv import dotenv_values                                   # Used for loading configs\n",
    "import os\n",
    "import re                                                          # Used to get run keys\n",
    "import subprocess"
   ]
  },
  {
   "cell_type": "markdown",
   "metadata": {},
   "source": [
    "## Config variables\n",
    "Variables for running the process. It first checks the defaults which are all relative to the project location. Specific settings can be set with another file which will overwrite values in the default but must be passed as an environmental variable `CONFIG_PATH`. Afterwards you can overwrite individual settings with environmental variables."
   ]
  },
  {
   "cell_type": "code",
   "execution_count": 52,
   "metadata": {},
   "outputs": [],
   "source": [
    "config = {\n",
    "    **dotenv_values(\"./notebooks/demux_illumina.default.env\"),       # load global default vars\n",
    "    **dotenv_values(os.getenv(\"CONFIG_PATH\")),                      # load specific vars, path of config is stored in ENV variable DEMUX_ILLUM_CONFIG_PATH\n",
    "    **os.environ,                                                   # override loaded values with ENV variables\n",
    "    'PROJECT_PATH': os.getcwd()                                     # set the project path relative to notebook\n",
    "}"
   ]
  },
  {
   "cell_type": "markdown",
   "metadata": {},
   "source": [
    "## Program variables\n",
    "Inputs:\n",
    "- RUNS_TO_DEMUX_FILE_PATH\n",
    "- EXPERMINENT_NAME_INSERTION_SITE\n",
    "- SAMPLESHEET_FILE_NAME\n",
    "- THREADS\n",
    "- MEMORY\n",
    "# Outputs\n",
    "- OUTPUT_DIR"
   ]
  },
  {
   "cell_type": "code",
   "execution_count": null,
   "metadata": {},
   "outputs": [],
   "source": [
    "#parameters\n",
    "# From config\n",
    "# Inputs\n",
    "RUNS_TO_DEMUX_FILE_PATH=config[\"RUNS_TO_DEMUX_FILE_PATH\"]\n",
    "EXPERMINENT_NAME_INSERTION_SITE=re.compile(config[\"EXPERMINENT_NAME_INSERTION_SITE\"])\n",
    "SAMPLESHEET_FILE_NAME=config[\"SAMPLESHEET_FILE_NAME\"]\n",
    "THREADS=config[\"THREADS\"]\n",
    "MEMORY=config[\"MEMORY\"]\n",
    "# Outputs\n",
    "OUTPUT_DIR=config[\"OUTPUT_DIR\"]"
   ]
  },
  {
   "cell_type": "code",
   "execution_count": null,
   "metadata": {},
   "outputs": [],
   "source": [
    "def get_experiment_name(sample_sheet_path):\n",
    "    with open(sample_sheet_path, 'r') as f:\n",
    "        file_text = f.read()\n",
    "    match = re.search(\"Experiment\\ Name,(?P<experiment_name>.+)\\n\", file_text)\n",
    "    if match.lastindex == 0:\n",
    "        raise Exception(\"Could not find experiment name in sample sheet\")\n",
    "    else:\n",
    "        return match.group(\"experiment_name\")\n",
    "\n",
    "def get_year(run_path):\n",
    "    # strip trailing slash if present\n",
    "    if run_path[-1] == \"/\":\n",
    "        run_path = run_path[:-1]\n",
    "    # get the last part of the path\n",
    "    run_name = os.path.basename(run_path)\n",
    "    # get the year from the first 2 digits of the path\n",
    "    year = run_name[:2]\n",
    "    # check the first 2 digits of the path are actually digits\n",
    "    if not year.isdigit():\n",
    "        raise Exception(\"Could not find year in run name\")\n",
    "    # make the 2 digit year into a 4 digit year\n",
    "    # FIXME: This will fail when the year is >2099\n",
    "    year = \"20\" + year\n",
    "    return year\n",
    "\n",
    "def get_output_folder_path(run_path, experiment_name_insertion_site, samplesheet_file_name, output_dir):\n",
    "    year = get_year(run_path)\n",
    "    experiment_name = get_experiment_name(os.path.join(run_path, samplesheet_file_name))\n",
    "    run_name = os.path.basename(run_path)\n",
    "    match = re.search(experiment_name_insertion_site, run_name)\n",
    "    assert(match.lastindex == 2)\n",
    "    pre_experiment_name = match.group(1)\n",
    "    post_experiment_name = match.group(2)\n",
    "    output_folder = os.path.join(output_dir, year, f\"{pre_experiment_name}_{experiment_name}{post_experiment_name}\")\n",
    "    return output_folder\n",
    "\n",
    "def demultiplex(run_path, output_folder, threads, memory):\n",
    "    # Note the bcl2fastq command will create output folders if they don't exist. This includes parent directories.\n",
    "    command = f\"\"\"\n",
    "        bcl2fastq --no-lane-splitting -r {threads} -p {threads} -w {threads} -R {run_path} -o {output_folder} --sample-sheet {run_path}/SampleSheet.csv; \n",
    "        cp -r {run_path}/InterOp {output_folder}/InterOp;\n",
    "        cp {run_path}/*.xml {output_folder}/;\n",
    "        cp {run_path}/SampleSheet.csv {output_folder}/SampleSheet.csv;\n",
    "        cp {run_path}/run_metadata.xlsx {output_folder}/run_metadata.xlsx;\n",
    "        \"\"\"\n",
    "    # This is where I'd normally run it with subprocess or such but am utilizing linux commands in Notebooks as the alternative.\n",
    "    return command"
   ]
  },
  {
   "cell_type": "code",
   "execution_count": null,
   "metadata": {},
   "outputs": [],
   "source": [
    "def generate_demux_illumina_commands(runs_to_demux_file_path, experiment_name_insertion_site, samplesheet_file_name, threads, memory, output_dir):\n",
    "    commands = []\n",
    "    with open(runs_to_demux_file_path, 'r') as f:\n",
    "        # ignore lines starting with #\n",
    "        runs = [line.strip() for line in f if not line.startswith(\"#\")]\n",
    "    for run in runs:\n",
    "        output_folder = get_output_folder_path(run, experiment_name_insertion_site, samplesheet_file_name, output_dir)\n",
    "        # Notification here\n",
    "        commands.append(demultiplex(run, output_folder, threads, memory))\n",
    "    return commands"
   ]
  },
  {
   "cell_type": "markdown",
   "metadata": {},
   "source": [
    "Get a list of demux commands from `generate_demux_illumina_commands` and then run them on the terminal. This is done with the `!` part sending it to the terminal (a Jupyter feature)."
   ]
  },
  {
   "cell_type": "code",
   "execution_count": null,
   "metadata": {},
   "outputs": [],
   "source": [
    "commands = generate_demux_illumina_commands(RUNS_TO_DEMUX_FILE_PATH, EXPERMINENT_NAME_INSERTION_SITE, SAMPLESHEET_FILE_NAME, THREADS, MEMORY, OUTPUT_DIR)\n",
    "for command in commands:\n",
    "    print(command)\n",
    "    !{command}\n",
    "    # TODO Add a notification here and ability to disable for development"
   ]
  },
  {
   "cell_type": "markdown",
   "metadata": {},
   "source": []
  }
 ],
 "metadata": {
  "kernelspec": {
   "display_name": "Python 3.10.5 64-bit ('.venv')",
   "language": "python",
   "name": "python3"
  },
  "language_info": {
   "codemirror_mode": {
    "name": "ipython",
    "version": 3
   },
   "file_extension": ".py",
   "mimetype": "text/x-python",
   "name": "python",
   "nbconvert_exporter": "python",
   "pygments_lexer": "ipython3",
   "version": "3.10.5"
  },
  "orig_nbformat": 4,
  "vscode": {
   "interpreter": {
    "hash": "e5cf2d8446b093643dc9cad2c8b0b64b167741c0847000e075e8555c49fab484"
   }
  }
 },
 "nbformat": 4,
 "nbformat_minor": 2
}
